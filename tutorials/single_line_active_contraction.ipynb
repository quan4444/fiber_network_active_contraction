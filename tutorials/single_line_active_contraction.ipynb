{
 "cells": [
  {
   "cell_type": "markdown",
   "id": "91643e7c",
   "metadata": {},
   "source": [
    "# Active contraction of a single beam"
   ]
  },
  {
   "cell_type": "markdown",
   "id": "7017ede7",
   "metadata": {},
   "source": [
    "## Import modules"
   ]
  },
  {
   "cell_type": "code",
   "execution_count": 1,
   "id": "7d6e0c28",
   "metadata": {},
   "outputs": [],
   "source": [
    "# Import FEnicSx/dolfinx\n",
    "import dolfinx\n",
    "\n",
    "# For numerical arrays\n",
    "import numpy as np\n",
    "\n",
    "# For MPI-based parallelization\n",
    "from mpi4py import MPI\n",
    "comm = MPI.COMM_WORLD\n",
    "\n",
    "# PETSc solvers\n",
    "from petsc4py import PETSc\n",
    "\n",
    "# specific functions from dolfinx modules\n",
    "from dolfinx import fem, mesh, plot, log\n",
    "from dolfinx.fem import (Constant, dirichletbc, Function, functionspace)\n",
    "from dolfinx.fem.petsc import NonlinearProblem, apply_lifting, assemble_matrix, assemble_vector, set_bc\n",
    "from dolfinx.nls.petsc import NewtonSolver\n",
    "from dolfinx.io import VTXWriter, XDMFFile\n",
    "\n",
    "\n",
    "# specific functions from ufl modules\n",
    "import ufl\n",
    "from ufl import (TestFunction, TrialFunction, grad, sqrt, derivative, dot, split, Jacobian,\\\n",
    "                  diag, as_vector,outer,cos,sin,variable,diag,action,diff)\n",
    "\n",
    "# basix finite elements (necessary for dolfinx v0.8.0)\n",
    "from basix.ufl import element, mixed_element\n",
    "\n",
    "# Matplotlib for plotting\n",
    "import matplotlib.pyplot as plt\n",
    "plt.close('all')\n",
    "\n",
    "# For timing the code\n",
    "from datetime import datetime\n",
    "\n",
    "\n",
    "# Set level of detail for log messages (integer)\n",
    "# Guide:\n",
    "# CRITICAL  = 50, // errors that may lead to data corruption\n",
    "# ERROR     = 40, // things that HAVE gone wrong\n",
    "# WARNING   = 30, // things that MAY go wrong later\n",
    "# INFO      = 20, // information of general interest (includes solver info)\n",
    "# PROGRESS  = 16, // what's happening (broadly)\n",
    "# TRACE     = 13, // what's happening (in detail)\n",
    "# DBG       = 10  // sundry\n",
    "#\n",
    "log.set_log_level(log.LogLevel.WARNING)"
   ]
  },
  {
   "cell_type": "markdown",
   "id": "76a42869",
   "metadata": {},
   "source": [
    "## Import mesh"
   ]
  },
  {
   "cell_type": "code",
   "execution_count": 2,
   "id": "26abe80f",
   "metadata": {},
   "outputs": [],
   "source": [
    "mesh_folder=\"example_files/meshes/\"\n",
    "mesh_filename=\"line_mesh_rotated.xdmf\"\n",
    "\n",
    "with XDMFFile(MPI.COMM_WORLD, mesh_folder+mesh_filename, \"r\") as xdmf:\n",
    "    domain = xdmf.read_mesh(name=\"Grid\")\n",
    "domain.topology.create_connectivity(domain.topology.dim - 1, domain.topology.dim)\n",
    "\n",
    "x = ufl.SpatialCoordinate(domain)"
   ]
  },
  {
   "cell_type": "markdown",
   "id": "19e73b2e",
   "metadata": {},
   "source": [
    "## Visualize the reference configuration"
   ]
  },
  {
   "cell_type": "code",
   "execution_count": 3,
   "id": "17511c67",
   "metadata": {},
   "outputs": [
    {
     "data": {
      "image/png": "[encoded data removed]",
      "text/plain": [
       "<IPython.core.display.Image object>"
      ]
     },
     "execution_count": 3,
     "metadata": {},
     "output_type": "execute_result"
    }
   ],
   "source": [
    "import pyvista\n",
    "pyvista.set_jupyter_backend('html')\n",
    "from dolfinx.plot import vtk_mesh\n",
    "pyvista.start_xvfb()\n",
    "\n",
    "# initialize a plotter\n",
    "plotter = pyvista.Plotter()\n",
    "\n",
    "# Add the mesh.\n",
    "topology, cell_types, geometry = plot.vtk_mesh(domain, domain.topology.dim)\n",
    "grid = pyvista.UnstructuredGrid(topology, cell_types, geometry)\n",
    "plotter.add_mesh(grid, show_edges=True) \n",
    "\n",
    "labels = dict(zlabel='Z', xlabel='X', ylabel='Y')\n",
    "plotter.add_axes(**labels)\n",
    "\n",
    "plotter.screenshot(\"example_files/images/mesh.png\")\n",
    "\n",
    "from IPython.display import Image\n",
    "Image(filename=\"example_files/images/mesh.png\") "
   ]
  },
  {
   "cell_type": "markdown",
   "id": "755d3705",
   "metadata": {},
   "source": [
    "## Function spaces"
   ]
  },
  {
   "cell_type": "code",
   "execution_count": 4,
   "id": "b6a3585e",
   "metadata": {},
   "outputs": [],
   "source": [
    "# Define the function space, both vectorial and scalar\n",
    "Ue = element(\"Lagrange\", domain.basix_cell(), 2, shape=(2,)) # for displacement. is shape the same as dim?\n",
    "Te = element(\"Lagrange\", domain.basix_cell(), 1) # for rotation\n",
    "Th = mixed_element([Ue, Te]) # Taylor-Hood element\n",
    "V = functionspace(domain, Th) # Total space for all DOFs\n",
    "\n",
    "# Define the actual functions with the required DOFs\n",
    "v = Function(V, name=\"Generalized displacement\")\n",
    "u, theta = split(v) # displacement u and rotation theta\n",
    "\n",
    "# Define test functions\n",
    "v_ = TestFunction(V)\n",
    "u_, theta_ = split(v_)\n",
    "\n",
    "# Define trial functions needed for automatic differentiation\n",
    "dv = TrialFunction(V)\n",
    "\n",
    "# Define the function space for the rotation?\n",
    "VR = functionspace(domain, element(\"DG\", domain.basix_cell(), 0, shape=(2, 2)))\n",
    "V0 = functionspace(domain, element(\"DG\", domain.basix_cell(), 0))"
   ]
  },
  {
   "cell_type": "markdown",
   "id": "0fa3151c",
   "metadata": {},
   "source": [
    "## Material parameters"
   ]
  },
  {
   "cell_type": "code",
   "execution_count": 5,
   "id": "8fd8f066",
   "metadata": {},
   "outputs": [],
   "source": [
    "# Geometric Properties\n",
    "S = 6.0 # cross-sectional area\n",
    "I = 2.0 # Area moment\n",
    "E = 720.0 # Elastic modulus\n",
    "nu = 0.0 # Poisson's Ratio\n",
    "\n",
    "G = E/(2*(1+nu)) # Shear Modulus\n",
    "kappa = 1.0 # Shear correction\n",
    "\n",
    "# Beam Stiffness\n",
    "ES = E*S\n",
    "GS = G*S\n",
    "GS_2 = G*S*kappa\n",
    "EI = E*I"
   ]
  },
  {
   "cell_type": "markdown",
   "id": "8a8ac54e",
   "metadata": {},
   "source": [
    "## Identify the boundaries of the domain and assign boundary conditions"
   ]
  },
  {
   "cell_type": "code",
   "execution_count": 6,
   "id": "7f784c8c",
   "metadata": {},
   "outputs": [],
   "source": [
    "# Identify the boundary\n",
    "def boundary_x_left(x):\n",
    "    return np.isclose(x[0], 0.0)\n",
    "\n",
    "fdim = domain.topology.dim - 1\n",
    "facet_indices = mesh.locate_entities(domain, fdim, boundary_x_left)\n",
    "facet_indices = np.array(facet_indices, dtype=np.int32)\n",
    "facet_markers = np.full_like(facet_indices, 10, dtype=np.int32)\n",
    "sorted_facet_indices = np.argsort(facet_indices)\n",
    "\n",
    "# Add these marked facets as \"mesh tags\" for later use in BCs.\n",
    "facet_tags = mesh.meshtags(domain, fdim, facet_indices[sorted_facet_indices], facet_markers[sorted_facet_indices])\n",
    "\n",
    "fixed_disp = Constant(domain, PETSc.ScalarType(0.0))\n",
    "left_dofs_u1 = fem.locate_dofs_topological(V.sub(0).sub(0), facet_tags.dim, facet_tags.find(10))\n",
    "left_dofs_u2 = fem.locate_dofs_topological(V.sub(0).sub(1), facet_tags.dim, facet_tags.find(10))\n",
    "left_dofs_rot = fem.locate_dofs_topological(V.sub(1),facet_tags.dim,facet_tags.find(10))\n",
    "\n",
    "# Assign boundary conditions\n",
    "bc_left_u1 = dirichletbc(fixed_disp, left_dofs_u1, V.sub(0).sub(0))\n",
    "bc_left_u2 = dirichletbc(fixed_disp, left_dofs_u2, V.sub(0).sub(1))\n",
    "bc_left_rot = dirichletbc(fixed_disp, left_dofs_rot, V.sub(1))\n",
    "\n",
    "bcs = [bc_left_u1,bc_left_u2,bc_left_rot]"
   ]
  },
  {
   "cell_type": "markdown",
   "id": "27a11801",
   "metadata": {},
   "source": [
    "## Define boundary and volume integration measure"
   ]
  },
  {
   "cell_type": "code",
   "execution_count": 7,
   "id": "f95c1cd7",
   "metadata": {},
   "outputs": [],
   "source": [
    "# Define the boundary integration measure \"ds\" using the facet tags,\n",
    "# also specify the number of surface quadrature points.\n",
    "ds = ufl.Measure('ds', domain=domain, subdomain_data=facet_tags, metadata={'quadrature_degree':4})\n",
    "\n",
    "# Define the volume integration measure \"dx\" \n",
    "# also specify the number of volume quadrature points.\n",
    "dx = ufl.Measure('dx', domain=domain, metadata={'quadrature_degree': 4})\n",
    "\n",
    "#  Define facet normal\n",
    "n = ufl.FacetNormal(domain)"
   ]
  },
  {
   "cell_type": "markdown",
   "id": "47e89321",
   "metadata": {},
   "source": [
    "## 2D beam kinematics"
   ]
  },
  {
   "cell_type": "code",
   "execution_count": 8,
   "id": "b38e84cc",
   "metadata": {},
   "outputs": [],
   "source": [
    "Jac = Jacobian(domain)\n",
    "gdim = domain.geometry.dim\n",
    "Jac = as_vector([Jac[i,0] for i in range(gdim)])\n",
    "g01 = Jac/sqrt(dot(Jac,Jac))\n",
    "g02 = as_vector([-g01[1], g01[0]])\n",
    "\n",
    "r01 = outer(g01, as_vector([1, 0]))\n",
    "r02 = outer(g02, as_vector([0, 1]))\n",
    "R0 = r01 + r02\n",
    "\n",
    "# Define functions for beams\n",
    "def tgrad(u): # directional derivative wrt beam centerline in the initial configuration\n",
    "    return dot(grad(u), g01)\n",
    "\n",
    "def rotation_matrix(theta):\n",
    "    return as_vector([[cos(theta), -sin(theta)], [sin(theta), cos(theta)]])\n",
    "\n",
    "Rot = rotation_matrix(theta)\n",
    "\n",
    "# 2D beam kinematics\n",
    "def gamma_value(t):\n",
    "    return t\n",
    "\n",
    "gamma = Constant(domain, PETSc.ScalarType(1.0)) # growth stretch\n",
    "lmbda = variable(dot(R0.T,dot(Rot.T,g01 + tgrad(u)))) # total stretch\n",
    "alpha = variable(lmbda/gamma) # mechanical stretch\n",
    "defo = variable(lmbda - as_vector([1,0])) # total_strain with rotationss\n",
    "defo_e = variable(alpha - as_vector([1,0]))# mechanical strain with rotations\n",
    "curv =  variable(tgrad(theta)) # curvature in initial configuration"
   ]
  },
  {
   "cell_type": "markdown",
   "id": "baf1ab3c",
   "metadata": {},
   "source": [
    "## Weak form"
   ]
  },
  {
   "cell_type": "code",
   "execution_count": 9,
   "id": "b0068e27",
   "metadata": {},
   "outputs": [],
   "source": [
    "# Constitutive Equation\n",
    "C_N = diag(as_vector([ES, GS_2]))\n",
    "\n",
    "# Applied Load:\n",
    "F_max = Constant(domain,(0.0,0.0))\n",
    "M_max = Constant(domain,0.0)\n",
    "\n",
    "# Hyperelastic strain energy density function\n",
    "strain_energy = 0.5 * (dot(defo_e, dot(C_N, defo_e)) + EI*curv**2)\n",
    "\n",
    "# Variational form\n",
    "F_int = derivative(strain_energy*gamma*dx,v,v_)\n",
    "F_ext = (-M_max*theta_ + dot(F_max, u_))*ds\n",
    "residual = F_int - F_ext\n",
    "tangent_form = derivative(residual, v, dv)"
   ]
  },
  {
   "cell_type": "markdown",
   "id": "cf28683a",
   "metadata": {},
   "source": [
    "## Define the nonlinear variational problem"
   ]
  },
  {
   "cell_type": "code",
   "execution_count": 10,
   "id": "652951eb",
   "metadata": {},
   "outputs": [],
   "source": [
    "# Optimization options for the form compiler\n",
    "\n",
    "# Set up nonlinear problem\n",
    "problem = NonlinearProblem(residual, v, bcs, tangent_form)\n",
    "\n",
    "# The global Newton solver and params\n",
    "solver = NewtonSolver(MPI.COMM_WORLD, problem)\n",
    "solver.convergence_criterion = \"incremental\"\n",
    "solver.rtol = 1e-12\n",
    "solver.atol = 1e-8\n",
    "solver.max_it = 50\n",
    "solver.report = True"
   ]
  },
  {
   "cell_type": "markdown",
   "id": "029c9300",
   "metadata": {},
   "source": [
    "## Setup output files"
   ]
  },
  {
   "cell_type": "code",
   "execution_count": 11,
   "id": "be6d32c6",
   "metadata": {},
   "outputs": [],
   "source": [
    "results_name = \"single_rotated_beam_contract\"\n",
    "\n",
    "U1 = element(\"DG\", domain.basix_cell(), 1, shape=(2,)) # for displacement\n",
    "V2 = functionspace(domain, U1) # vector function space\n",
    "\n",
    "u_vis = Function(V2)\n",
    "u_vis.name = \"displacement\"\n",
    "\n",
    "file_results = VTXWriter(\n",
    "    MPI.COMM_WORLD,\n",
    "    \"example_files/fem_results/\"+results_name+\".bp\",\n",
    "    [\n",
    "        u_vis\n",
    "    ],\n",
    "    engine=\"BP4\",\n",
    ")\n",
    "\n",
    "def writeResults(t):\n",
    "    # Output field interpolation\n",
    "    u_vis.interpolate(v.sub(0))\n",
    "\n",
    "    # Write output fields\n",
    "    file_results.write(t)"
   ]
  },
  {
   "cell_type": "markdown",
   "id": "47f1245a",
   "metadata": {},
   "source": [
    "## Define functions to extract reaction forces from residual"
   ]
  },
  {
   "cell_type": "code",
   "execution_count": 12,
   "id": "89a17dff",
   "metadata": {},
   "outputs": [],
   "source": [
    "def one(x):\n",
    "    values = np.zeros((1,x.shape[1]))\n",
    "    values[0] = 1.0\n",
    "    return values\n",
    "\n",
    "\n",
    "# # Extract reaction forces from the left boundary\n",
    "# one_const = Constant(domain, PETSc.ScalarType(1.0))\n",
    "# bcRx = dirichletbc(one_const, left_dofs_u1, V.sub(0).sub(0)) # take x reaction force\n",
    "# bcRy = dirichletbc(one_const, left_dofs_u2, V.sub(0).sub(1)) # take y reaction force\n",
    "# v_rx = Function(V)\n",
    "# v_ry = Function(V)\n",
    "\n",
    "# try 2\n",
    "v_rx = Function(V)\n",
    "v_ry = Function(V)\n",
    "bcRx = dirichletbc(v_rx,left_dofs_u1)\n",
    "bcRy = dirichletbc(v_ry,left_dofs_u2)\n",
    "bcs_rxn = [bcRx,bcRy]"
   ]
  },
  {
   "cell_type": "markdown",
   "id": "fde51d9b",
   "metadata": {},
   "source": [
    "## Define functions to extract reaction forces by differentiating the strain energy w.r.t the mechanical strain"
   ]
  },
  {
   "cell_type": "code",
   "execution_count": 13,
   "id": "9a2bb4d5",
   "metadata": {},
   "outputs": [],
   "source": [
    "def project(e, target_func, bcs=[]):\n",
    "    \"\"\"Project UFL expression.\n",
    "\n",
    "    Note\n",
    "    ----\n",
    "    This method solves a linear system (using KSP defaults).\n",
    "\n",
    "    \"\"\"\n",
    "\n",
    "    # Ensure we have a mesh and attach to measure\n",
    "    V = target_func.function_space\n",
    "    dx = ufl.dx(V.mesh)\n",
    "\n",
    "    # Define variational problem for projection\n",
    "    w = ufl.TestFunction(V)\n",
    "    v = ufl.TrialFunction(V)\n",
    "    a = dolfinx.fem.form(ufl.inner(v, w) * dx)\n",
    "    L = dolfinx.fem.form(ufl.inner(e, w) * dx)\n",
    "\n",
    "    # Assemble linear system\n",
    "    A = assemble_matrix(a, bcs)\n",
    "    A.assemble()\n",
    "    b = assemble_vector(L)\n",
    "    apply_lifting(b, [a], [bcs])\n",
    "    b.ghostUpdate(addv=PETSc.InsertMode.ADD, mode=PETSc.ScatterMode.REVERSE)\n",
    "    set_bc(b, bcs)\n",
    "\n",
    "    # Solve linear system\n",
    "    solver = PETSc.KSP().create(A.getComm())\n",
    "    solver.setType(\"bcgs\")\n",
    "    solver.getPC().setType(\"bjacobi\")\n",
    "    solver.rtol = 1.0e-05\n",
    "    solver.setOperators(A)\n",
    "    solver.solve(b, target_func.x.petsc_vec)\n",
    "    assert solver.reason > 0\n",
    "    target_func.x.scatter_forward()\n",
    "\n",
    "    # Destroy PETSc linear algebra objects and solver\n",
    "    solver.destroy()\n",
    "    A.destroy()\n",
    "    b.destroy()\n",
    "\n",
    "DG_func = functionspace(domain, (\"DG\",1,(domain.geometry.dim,)))\n",
    "int_force = Function(DG_func, name='force')"
   ]
  },
  {
   "cell_type": "markdown",
   "id": "cdda3e56",
   "metadata": {},
   "source": [
    "## Solve the nonlinear problem"
   ]
  },
  {
   "cell_type": "code",
   "execution_count": 14,
   "id": "fd8f8c8b",
   "metadata": {},
   "outputs": [
    {
     "name": "stdout",
     "output_type": "stream",
     "text": [
      "Increment: 1 | Contraction: 1.0 | Iter: 2\n",
      "Increment: 2 | Contraction: 0.9736842105263158 | Iter: 3\n",
      "Increment: 3 | Contraction: 0.9473684210526316 | Iter: 3\n",
      "Increment: 4 | Contraction: 0.9210526315789473 | Iter: 3\n",
      "Increment: 5 | Contraction: 0.8947368421052632 | Iter: 3\n",
      "Increment: 6 | Contraction: 0.868421052631579 | Iter: 3\n",
      "Increment: 7 | Contraction: 0.8421052631578947 | Iter: 3\n",
      "Increment: 8 | Contraction: 0.8157894736842105 | Iter: 3\n",
      "Increment: 9 | Contraction: 0.7894736842105263 | Iter: 3\n",
      "Increment: 10 | Contraction: 0.7631578947368421 | Iter: 3\n",
      "Increment: 11 | Contraction: 0.736842105263158 | Iter: 3\n",
      "Increment: 12 | Contraction: 0.7105263157894737 | Iter: 3\n",
      "Increment: 13 | Contraction: 0.6842105263157895 | Iter: 3\n",
      "Increment: 14 | Contraction: 0.6578947368421053 | Iter: 3\n",
      "Increment: 15 | Contraction: 0.631578947368421 | Iter: 3\n",
      "Increment: 16 | Contraction: 0.6052631578947368 | Iter: 3\n",
      "Increment: 17 | Contraction: 0.5789473684210527 | Iter: 3\n",
      "Increment: 18 | Contraction: 0.5526315789473685 | Iter: 3\n",
      "Increment: 19 | Contraction: 0.5263157894736843 | Iter: 3\n",
      "Increment: 20 | Contraction: 0.5 | Iter: 3\n"
     ]
    }
   ],
   "source": [
    "Tlist = np.linspace(1,.5,20)\n",
    "\n",
    "v_reac = Function(V)\n",
    "\n",
    "force_x = []\n",
    "force_y = []\n",
    "force_diff = []\n",
    "force_diff_whole_array = []\n",
    "force_diff_total_strain = []\n",
    "ii=0\n",
    "for t in Tlist:\n",
    "    # Apply growth\n",
    "    gamma.value = gamma_value(t)\n",
    "\n",
    "    # Solve the problem\n",
    "    try:\n",
    "        (iter,converged) = solver.solve(v)\n",
    "    except: # Break the loop if solver fails\n",
    "        print(\"Ended early\")\n",
    "        break\n",
    "\n",
    "    ii+=1\n",
    "\n",
    "    # Collect results from MPI ghost processes\n",
    "    v.x.scatter_forward()\n",
    "\n",
    "    # Write output to file\n",
    "    writeResults(ii)\n",
    "\n",
    "    # Compute internal force using only the mechanical strain\n",
    "    project(diff(strain_energy,defo_e), int_force)\n",
    "    force_diff_whole_array.append(int_force.x.array)\n",
    "    force_diff.append(int_force.x.array[0])\n",
    "\n",
    "    # Compute force from residual\n",
    "    # v.sub(0).sub(0).interpolate(one)\n",
    "    v_rx.sub(0).sub(0).interpolate(one)\n",
    "    virtual_work_form_x = fem.form(action(residual,v_rx))\n",
    "    fem.set_bc(v_rx.x.array,bcs_rxn)\n",
    "    Rx = fem.assemble_scalar(virtual_work_form_x)\n",
    "    force_x.append(Rx)\n",
    "\n",
    "    # v.sub(0).sub(1).interpolate(one)\n",
    "    v_ry.sub(0).sub(1).interpolate(one)\n",
    "    virtual_work_form_y = fem.form(action(residual,v_ry))\n",
    "    fem.set_bc(v_ry.x.array,bcs_rxn)\n",
    "    Ry = fem.assemble_scalar(virtual_work_form_y)\n",
    "    force_y.append(Ry)\n",
    "\n",
    "    # Print progress of calculation\n",
    "    if ii%1 == 0:\n",
    "        now = datetime.now()\n",
    "        current_time = now.strftime(\"%H:%M:%S\")\n",
    "        print(f\"Increment: {ii} | Contraction: {t} | Iter: {iter}\")"
   ]
  },
  {
   "cell_type": "markdown",
   "id": "0e56e1f1",
   "metadata": {},
   "source": [
    "## Validate the code against analytical solutions (Reaction forces)"
   ]
  },
  {
   "cell_type": "code",
   "execution_count": 15,
   "id": "903e3622",
   "metadata": {},
   "outputs": [
    {
     "data": {
      "text/plain": [
       "<matplotlib.legend.Legend at 0x7f897c047a10>"
      ]
     },
     "execution_count": 15,
     "metadata": {},
     "output_type": "execute_result"
    },
    {
     "data": {
      "image/png": "[encoded data removed]",
      "text/plain": [
       "<Figure size 640x480 with 1 Axes>"
      ]
     },
     "metadata": {},
     "output_type": "display_data"
    }
   ],
   "source": [
    "force_x = np.array(force_x)\n",
    "force_y = np.array(force_y)\n",
    "\n",
    "force_residual = np.sqrt(force_x**2 + force_y**2)\n",
    "\n",
    "plt.figure()\n",
    "plt.plot(Tlist,force_diff, marker = 's', ls = 'None', label = 'FEA reaction force from differentiation')\n",
    "plt.plot(Tlist,force_residual, marker = 'o', ls = 'None', label = 'FEA reaction force from residual')\n",
    "plt.axhline(ls = ':', c = 'k', label = 'Analytical')\n",
    "plt.xlabel('Growth stretch')\n",
    "plt.ylabel('Reaction force')\n",
    "plt.title('Reaction force validation')\n",
    "plt.legend()"
   ]
  }
 ],
 "metadata": {
  "kernelspec": {
   "display_name": "Python 3",
   "language": "python",
   "name": "python3"
  },
  "language_info": {
   "codemirror_mode": {
    "name": "ipython",
    "version": 3
   },
   "file_extension": ".py",
   "mimetype": "text/x-python",
   "name": "python",
   "nbconvert_exporter": "python",
   "pygments_lexer": "ipython3",
   "version": "3.13.2"
  }
 },
 "nbformat": 4,
 "nbformat_minor": 5
}
