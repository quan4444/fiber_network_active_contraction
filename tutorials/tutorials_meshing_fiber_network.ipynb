{
 "cells": [
  {
   "cell_type": "markdown",
   "id": "a294c8d0",
   "metadata": {},
   "source": [
    "# Fiber Network Mesh Generation\n",
    "This notebook demonstrates how to generate a mesh using the code in `mesh_generation.py`."
   ]
  },
  {
   "cell_type": "markdown",
   "id": "42a13c09",
   "metadata": {},
   "source": [
    "## Microtissue Fiber Network Generation\n",
    "Complete workflow with parameter exploration and visualization"
   ]
  },
  {
   "cell_type": "code",
   "execution_count": 1,
   "id": "9e8ba015",
   "metadata": {},
   "outputs": [],
   "source": [
    "import numpy as np\n",
    "import matplotlib.pyplot as plt\n",
    "import sys\n",
    "sys.path.insert(1, '/projectnb/me700/students/quan/assignments/fiber_network_active_contraction/src/fiber_network')\n",
    "from mesh_generation import (\n",
    "    FiberNetworkParams, \n",
    "    generate_sample_tissue_params,\n",
    "    generate_fib_net_for_tissue,\n",
    "    generate_fib_net_xdmf_meshio\n",
    ")"
   ]
  },
  {
   "cell_type": "markdown",
   "id": "0a5ead9a",
   "metadata": {},
   "source": [
    "### 1. Configuration Setup\n",
    "All available parameters with sample values:"
   ]
  },
  {
   "cell_type": "code",
   "execution_count": 2,
   "id": "acce9435",
   "metadata": {},
   "outputs": [],
   "source": [
    "np.random.seed(0)  # For reproducibility\n",
    "\n",
    "# Generate sample tissue geometry\n",
    "tissue_pts, posts_pos, posts_radius, wound_shape = generate_sample_tissue_params()\n",
    "\n",
    "# Full parameter configuration\n",
    "config = FiberNetworkParams(\n",
    "    # Tissue geometry (using sample values)\n",
    "    tissue_points=tissue_pts,\n",
    "    dimension=2,\n",
    "    \n",
    "    # Fiber generation parameters\n",
    "    num_fibers=250,\n",
    "    fiber_length={\n",
    "        \"distribution\": \"normal\",  # Options: constant/uniform/normal\n",
    "        \"min\": 0.1, # for uniform distribution\n",
    "        \"max\": 0.5, # for uniform distribution\n",
    "        \"mean\": 0.3, # for normal distribution and constant\n",
    "        \"std_dev\": 0.05 # for normal distribution and constant\n",
    "    },\n",
    "    fiber_orientation={\n",
    "        \"distribution\": \"random_orientation\",  # Options: random_orientation/uniform/von_mises\n",
    "        \"range\": [0, 180],  # For uniform distribution\n",
    "        \"mean_angle\": 0,  # For von Mises\n",
    "        \"concentration\": 0.0  # For von Mises (higher = more aligned)\n",
    "    },\n",
    "    fiber_radii={\n",
    "        \"distribution\": \"normal\",  # Options: constant/uniform/normal\n",
    "        \"mean\": 0.01,\n",
    "        \"std_dev\": 0.002\n",
    "    },\n",
    "    \n",
    "    # Micropost configuration\n",
    "    post_positions=posts_pos,\n",
    "    post_radius=posts_radius,\n",
    "    post_tolerance=1e-6,\n",
    "    \n",
    "    # Wound parameters\n",
    "    wound_shape=wound_shape,\n",
    "    \n",
    "    # Spatial distribution control\n",
    "    num_patches_x=2,\n",
    "    num_patches_y=2\n",
    ")"
   ]
  },
  {
   "cell_type": "markdown",
   "id": "76efe956",
   "metadata": {},
   "source": [
    "### 2. Generate and Visualize Network\n",
    "2D visualization colored by fiber index"
   ]
  },
  {
   "cell_type": "code",
   "execution_count": 3,
   "id": "25be95b4",
   "metadata": {},
   "outputs": [],
   "source": [
    "# Generate the fiber network\n",
    "fiber_network = generate_fib_net_for_tissue(config)"
   ]
  },
  {
   "cell_type": "code",
   "execution_count": 12,
   "id": "2a758d95",
   "metadata": {},
   "outputs": [
    {
     "name": "stdout",
     "output_type": "stream",
     "text": [
      "mean fiber length = 0.016728251822042118\n",
      "min fiber length = 1.3067208369935578e-05\n",
      "max fiber length = 0.11306711687591961\n",
      "num short_fib = 20\n"
     ]
    }
   ],
   "source": [
    "def post_boundary(x,post_center,post_r,tol=1e-6):\n",
    "    return np.sqrt( (x[0]-post_center[0])**2 + (x[1]-post_center[1])**2 ) - post_r <= tol\n",
    "\n",
    "def post0_subdomain(x):\n",
    "    return post_boundary(x,post_center_0,post_radius)\n",
    "\n",
    "def post1_subdomain(x):\n",
    "    return post_boundary(x,post_center_1,post_radius)\n",
    "\n",
    "def post2_subdomain(x):\n",
    "    return post_boundary(x,post_center_2,post_radius)\n",
    "\n",
    "def post3_subdomain(x):\n",
    "    return post_boundary(x,post_center_3,post_radius)\n",
    "\n",
    "def on_posts(x):\n",
    "    return post0_subdomain(x) or post1_subdomain(x) or post2_subdomain(x) or post3_subdomain(x)\n",
    "\n",
    "posts_pos = np.array([[0.100917431,0.110091743],[0.899082569,0.110091743],\n",
    "                        [0.100917431,0.581039755],[0.899082569,0.577981651]])\n",
    "post_shift = np.array([[1,1],[-1,1],[1,-1],[-1,-1]]) * 0.05\n",
    "posts_pos+=post_shift\n",
    "post_center_2,post_center_3,post_center_1,post_center_0 = posts_pos\n",
    "post_radius = 0.1\n",
    "\n",
    "fib_len = []\n",
    "pts_on_posts = []\n",
    "short_fib = []\n",
    "for line in fiber_network.fibers:\n",
    "    p1x,p1y,p2x,p2y = line\n",
    "\n",
    "    pt1_on_post = on_posts([p1x,p1y])\n",
    "    pt2_on_post = on_posts([p2x,p2y])\n",
    "    if pt1_on_post and pt2_on_post:\n",
    "        pts_on_posts.append([p1x,p1y])\n",
    "        pts_on_posts.append([p2x,p2y])\n",
    "        continue\n",
    "\n",
    "    len_line = np.sqrt( (p1x-p2x)**2 + (p1y-p2y)**2 )\n",
    "    fib_len.append(len_line)\n",
    "    if len_line <= 1e-4:\n",
    "        short_fib.append(line)\n",
    "fib_len = np.array(fib_len)\n",
    "short_fib = np.array(short_fib)\n",
    "\n",
    "print(f'mean fiber length = {np.mean(fib_len)}')\n",
    "print(f'min fiber length = {np.amin(fib_len)}')\n",
    "print(f'max fiber length = {np.amax(fib_len)}')\n",
    "print(f'num short_fib = {short_fib.shape[0]}')"
   ]
  },
  {
   "cell_type": "code",
   "execution_count": 5,
   "id": "754f37a2",
   "metadata": {},
   "outputs": [
    {
     "data": {
      "text/plain": [
       "(array([1273.,  684.,  362.,  171.,   73.,   44.,   25.,   10.,    8.,\n",
       "           6.]),\n",
       " array([1.30672084e-05, 1.13184722e-02, 2.26238771e-02, 3.39292821e-02,\n",
       "        4.52346871e-02, 5.65400920e-02, 6.78454970e-02, 7.91509020e-02,\n",
       "        9.04563069e-02, 1.01761712e-01, 1.13067117e-01]),\n",
       " <BarContainer object of 10 artists>)"
      ]
     },
     "execution_count": 5,
     "metadata": {},
     "output_type": "execute_result"
    },
    {
     "data": {
      "image/png": "[encoded data removed]",
      "text/plain": [
       "<Figure size 640x480 with 1 Axes>"
      ]
     },
     "metadata": {},
     "output_type": "display_data"
    }
   ],
   "source": [
    "plt.hist(fib_len)"
   ]
  },
  {
   "cell_type": "code",
   "execution_count": 11,
   "id": "b420684a",
   "metadata": {},
   "outputs": [
    {
     "data": {
      "image/png": "[encoded data removed]",
      "text/plain": [
       "<Figure size 640x480 with 1 Axes>"
      ]
     },
     "metadata": {},
     "output_type": "display_data"
    }
   ],
   "source": [
    "pts_on_posts=np.array(pts_on_posts)\n",
    "\n",
    "plt.scatter(pts_on_posts[:,0],pts_on_posts[:,1])\n",
    "for short_line in short_fib:\n",
    "    plt.plot(short_line[:2],short_line[2:])"
   ]
  },
  {
   "cell_type": "code",
   "execution_count": 10,
   "id": "a8ca46e1",
   "metadata": {},
   "outputs": [
    {
     "name": "stdout",
     "output_type": "stream",
     "text": [
      "[[0.10075367 0.40852205 0.10075582 0.40845127]\n",
      " [0.10075367 0.40852205 0.1007702  0.40844563]\n",
      " [0.10075582 0.40845127 0.1007702  0.40844563]\n",
      " [0.12004554 0.31935243 0.12006438 0.31926534]\n",
      " [0.12004554 0.31935243 0.12012815 0.31931301]\n",
      " [0.12006438 0.31926534 0.12012815 0.31931301]\n",
      " [0.20722372 0.34878215 0.20724711 0.34882539]\n",
      " [0.20722372 0.34878215 0.20725854 0.34877973]\n",
      " [0.20724711 0.34882539 0.20725854 0.34877973]\n",
      " [0.29203271 0.58963738 0.29203556 0.58968021]\n",
      " [0.29203271 0.58963738 0.29205117 0.5896537 ]\n",
      " [0.29203556 0.58968021 0.29205117 0.5896537 ]\n",
      " [0.42369438 0.17712862 0.42377896 0.17716548]\n",
      " [0.54486184 0.22489682 0.54487951 0.22488425]\n",
      " [0.54486184 0.22489682 0.54488667 0.22489518]\n",
      " [0.54487951 0.22488425 0.54488667 0.22489518]\n",
      " [0.67859875 0.34965504 0.67861687 0.34966417]\n",
      " [0.81046819 0.03672595 0.81053796 0.0367218 ]\n",
      " [0.87600126 0.43170648 0.87608373 0.43168195]\n",
      " [0.87608373 0.43168195 0.8761477  0.43174948]]\n"
     ]
    }
   ],
   "source": [
    "print(short_fib)"
   ]
  },
  {
   "cell_type": "code",
   "execution_count": null,
   "id": "3b8e0ff0",
   "metadata": {},
   "outputs": [],
   "source": [
    "# # Check for duplicate fibers\n",
    "# unique_fibers = np.unique(fiber_network.fibers, axis=0)\n",
    "# if len(unique_fibers) != len(fiber_network.fibers):\n",
    "#     print(\"Warning: Duplicate fibers detected.\")\n",
    "\n",
    "# # Check for near-zero-length fibers\n",
    "# fiber_lengths = np.sqrt((fiber_network.fibers[:, 2] - fiber_network.fibers[:, 0])**2 +\n",
    "#                         (fiber_network.fibers[:, 3] - fiber_network.fibers[:, 1])**2)\n",
    "# if np.any(fiber_lengths < 1e-6):\n",
    "#     print(\"Warning: Near-zero-length fibers detected.\")"
   ]
  },
  {
   "cell_type": "code",
   "execution_count": null,
   "id": "b45c637e",
   "metadata": {},
   "outputs": [],
   "source": [
    "# Create colormap for fiber indices\n",
    "cmap = plt.get_cmap('viridis')\n",
    "norm = plt.Normalize(vmin=0, vmax=len(fiber_network.indices))\n",
    "\n",
    "# Plot configuration\n",
    "plt.figure(figsize=(12, 8), dpi=100)\n",
    "\n",
    "# Plot fibers with index-based coloring\n",
    "for idx, fiber in enumerate(fiber_network.fibers):\n",
    "    plt.plot([fiber[0], fiber[2]], [fiber[1], fiber[3]], \n",
    "             color=cmap(norm(fiber_network.indices[idx])), \n",
    "             lw=1.0, \n",
    "             alpha=0.7)\n",
    "\n",
    "# Plot microposts\n",
    "for post in posts_pos:\n",
    "    plt.gca().add_patch(plt.Circle(post, posts_radius, color='red', alpha=0.4))\n",
    "\n",
    "posts_pos_test = np.array([[0.100917431,0.110091743],[0.899082569,0.110091743],\n",
    "                        [0.100917431,0.581039755],[0.899082569,0.577981651]])\n",
    "post_shift = np.array([[1,1],[-1,1],[1,-1],[-1,-1]]) * 0.05\n",
    "posts_pos_test+=post_shift\n",
    "plt.scatter(posts_pos_test[:,0], posts_pos_test[:,1],\n",
    "            color='red', alpha=1.0) # s=posts_radius*100\n",
    "\n",
    "# Formatting\n",
    "plt.xlim(tissue_pts[:,0].min()-0.1, tissue_pts[:,0].max()+0.1)\n",
    "plt.ylim(tissue_pts[:,1].min()-0.1, tissue_pts[:,1].max()+0.1)\n",
    "plt.gca().set_aspect('equal')\n",
    "plt.title(\"Fiber Network (Colored by Fiber Index)\")\n",
    "plt.xlabel(\"X Position\")\n",
    "plt.ylabel(\"Y Position\")\n",
    "\n",
    "# Add colorbar\n",
    "sm = plt.cm.ScalarMappable(cmap=cmap, norm=norm)\n",
    "cbar = plt.colorbar(sm, ax=plt.gca(), shrink=0.7)\n",
    "cbar.set_label('Fiber Index')"
   ]
  },
  {
   "cell_type": "markdown",
   "id": "d14b9ebe",
   "metadata": {},
   "source": [
    "### 3. Export to XDMF Format\n",
    "Mesh refinement with characteristic length"
   ]
  },
  {
   "cell_type": "code",
   "execution_count": null,
   "id": "86e0d903",
   "metadata": {},
   "outputs": [],
   "source": [
    "generate_fib_net_xdmf_meshio(\n",
    "    fiber_network.fibers,\n",
    "    f_name=\"microtissue_mesh\",\n",
    "    output_xdmf=\"./example_files/meshes/\",\n",
    "    fib_ind=fiber_network.indices,\n",
    "    characteristic_length=0.006\n",
    ")\n",
    "\n",
    "print(\"XDMF export complete. Files saved in ./output/ directory\")"
   ]
  }
 ],
 "metadata": {
  "kernelspec": {
   "display_name": "Python 3",
   "language": "python",
   "name": "python3"
  },
  "language_info": {
   "codemirror_mode": {
    "name": "ipython",
    "version": 3
   },
   "file_extension": ".py",
   "mimetype": "text/x-python",
   "name": "python",
   "nbconvert_exporter": "python",
   "pygments_lexer": "ipython3",
   "version": "3.13.2"
  }
 },
 "nbformat": 4,
 "nbformat_minor": 5
}
